{
 "cells": [
  {
   "cell_type": "code",
   "execution_count": 1,
   "id": "cde71b0e",
   "metadata": {},
   "outputs": [],
   "source": [
    "test_str = \"datascience\"\n",
    "   \n",
    "all_freq = {}\n",
    "  \n",
    "for i in test_str:\n",
    "    if i in all_freq:\n",
    "        all_freq[i] += 1\n",
    "    else:\n",
    "        all_freq[i] = 1"
   ]
  },
  {
   "cell_type": "code",
   "execution_count": 2,
   "id": "5b76626f",
   "metadata": {},
   "outputs": [
    {
     "name": "stdout",
     "output_type": "stream",
     "text": [
      "Count of all characters in datascience is :\n",
      " {'d': 1, 'a': 2, 't': 1, 's': 1, 'c': 2, 'i': 1, 'e': 2, 'n': 1}\n"
     ]
    }
   ],
   "source": [
    "print (\"Count of all characters in datascience is :\\n \"+  str(all_freq))"
   ]
  },
  {
   "cell_type": "code",
   "execution_count": null,
   "id": "979055f9",
   "metadata": {},
   "outputs": [],
   "source": []
  }
 ],
 "metadata": {
  "kernelspec": {
   "display_name": "Python 3",
   "language": "python",
   "name": "python3"
  },
  "language_info": {
   "codemirror_mode": {
    "name": "ipython",
    "version": 3
   },
   "file_extension": ".py",
   "mimetype": "text/x-python",
   "name": "python",
   "nbconvert_exporter": "python",
   "pygments_lexer": "ipython3",
   "version": "3.8.8"
  }
 },
 "nbformat": 4,
 "nbformat_minor": 5
}
